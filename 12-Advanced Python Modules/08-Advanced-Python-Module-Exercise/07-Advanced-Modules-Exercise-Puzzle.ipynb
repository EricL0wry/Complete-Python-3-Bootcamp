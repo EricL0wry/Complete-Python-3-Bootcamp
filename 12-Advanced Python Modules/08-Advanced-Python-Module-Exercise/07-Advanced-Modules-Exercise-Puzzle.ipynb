{
 "cells": [
  {
   "cell_type": "markdown",
   "metadata": {},
   "source": [
    "___\n",
    "\n",
    "<a href='https://www.udemy.com/user/joseportilla/'><img src='../../Pierian_Data_Logo.png'/></a>\n",
    "___\n",
    "<center><em>Content Copyright by Pierian Data</em></center>"
   ]
  },
  {
   "cell_type": "markdown",
   "metadata": {},
   "source": [
    "# Advanced Modules Exercise Puzzle\n",
    "\n",
    "It's time to test your new skills, this puzzle project will combine multiple skills sets, including unzipping files with Python, using os module to automatically search through lots of files.\n",
    "\n",
    "## Your Goal\n",
    "\n",
    "This is a puzzle, so we don't want to give you too much guidance and instead have you figure out things on your own.\n",
    "\n",
    "There is a .zip file called 'unzip_me_for_instructions.zip', unzip it, open the .txt file with Python, read the instructions and see if you can figure out what you need to do!\n",
    "\n",
    "**If you get stuck or don't know where to start, here is a [guide/hints](https://docs.google.com/document/d/1JxydUr4n4fSR0EwwuwT-aHia-yPK6r-oTBuVT2sqheo/edit?usp=sharing)**"
   ]
  },
  {
   "cell_type": "code",
   "execution_count": 3,
   "metadata": {},
   "outputs": [],
   "source": [
    "import zipfile\n",
    "\n",
    "zip_obj = zipfile.ZipFile('unzip_me_for_instructions.zip','r')\n",
    "zip_obj.extractall('extracted_folder')"
   ]
  },
  {
   "cell_type": "code",
   "execution_count": 7,
   "metadata": {},
   "outputs": [],
   "source": [
    "instructions = open('./extracted_folder/extracted_content/Instructions.txt', 'r')"
   ]
  },
  {
   "cell_type": "code",
   "execution_count": 8,
   "metadata": {},
   "outputs": [
    {
     "data": {
      "text/plain": [
       "'Good work on unzipping the file!\\nYou should now see 5 folders, each with a lot of random .txt files.\\nWithin one of these text files is a telephone number formated ###-###-#### \\nUse the Python os module and regular expressions to iterate through each file, open it, and search for a telephone number.\\nGood luck!'"
      ]
     },
     "execution_count": 8,
     "metadata": {},
     "output_type": "execute_result"
    }
   ],
   "source": [
    "instructions.read()"
   ]
  },
  {
   "cell_type": "code",
   "execution_count": 9,
   "metadata": {},
   "outputs": [],
   "source": [
    "instructions.close()"
   ]
  },
  {
   "cell_type": "code",
   "execution_count": 20,
   "metadata": {},
   "outputs": [],
   "source": [
    "import os\n",
    "import re"
   ]
  },
  {
   "cell_type": "code",
   "execution_count": 21,
   "metadata": {},
   "outputs": [
    {
     "data": {
      "text/plain": [
       "'/Users/ericlowry/Git/Personal/Learning/Complete-Python-3-Bootcamp/12-Advanced Python Modules/08-Advanced-Python-Module-Exercise'"
      ]
     },
     "execution_count": 21,
     "metadata": {},
     "output_type": "execute_result"
    }
   ],
   "source": [
    "pwd"
   ]
  },
  {
   "cell_type": "code",
   "execution_count": 22,
   "metadata": {},
   "outputs": [
    {
     "data": {
      "text/plain": [
       "['extracted_folder',\n",
       " '07-Advanced-Modules-Exercise-Puzzle.ipynb',\n",
       " '08-Advanced-Modules-Exercise-Solutions.ipynb',\n",
       " 'unzip_me_for_instructions.zip',\n",
       " '.ipynb_checkpoints',\n",
       " 'extracted_content']"
      ]
     },
     "execution_count": 22,
     "metadata": {},
     "output_type": "execute_result"
    }
   ],
   "source": [
    "os.listdir()"
   ]
  },
  {
   "cell_type": "code",
   "execution_count": 24,
   "metadata": {},
   "outputs": [],
   "source": [
    "file_path = './extracted_folder/extracted_content'"
   ]
  },
  {
   "cell_type": "code",
   "execution_count": 50,
   "metadata": {},
   "outputs": [
    {
     "name": "stdout",
     "output_type": "stream",
     "text": [
      "The current folder is ./extracted_folder/extracted_content\n",
      "\tContains sub-folder Three\n",
      "\tContains sub-folder One\n",
      "\tContains sub-folder Two\n",
      "\tContains sub-folder Five\n",
      "\tContains sub-folder Four\n",
      "\tContains file Instructions.txt\n",
      "The current folder is ./extracted_folder/extracted_content/Three\n",
      "\tContains no sub-folders!\n",
      "\tContains file VSXFSTABZDY.txt\n",
      "\tContains file YDQFMWXOUMW.txt\n",
      "\tContains file YQBIUHSUEVW.txt\n",
      "\tContains file XAJMCPEWFNI.txt\n",
      "\tContains file ZXEZRQXZNPG.txt\n",
      "\tContains file ZKQJXAYKPVD.txt\n",
      "\tContains file XVMPVSVYKFR.txt\n",
      "\tContains file XHZPVUQTXIO.txt\n",
      "\tContains file YYIZGBTQHZP.txt\n",
      "\tContains file VCFJCGJFBIH.txt\n",
      "\tContains file VVHFVZUNLOO.txt\n",
      "\tContains file VVKGWLRMHLU.txt\n",
      "\tContains file XJCWENFFGHB.txt\n",
      "\tContains file XFHJOTNPEJG.txt\n",
      "\tContains file ZOWVXWPOGWP.txt\n",
      "\tContains file ZXIBJMPROKW.txt\n",
      "\tContains file VAQIJTDOFUJ.txt\n",
      "\tContains file YCESZHJDBXH.txt\n",
      "\tContains file YQRNCMNFFHW.txt\n",
      "\tContains file ZEZKKRBIZEB.txt\n",
      "The current folder is ./extracted_folder/extracted_content/One\n",
      "\tContains no sub-folders!\n",
      "\tContains file LFEATJAAYDC.txt\n",
      "\tContains file KCXGNQCZBLO.txt\n",
      "\tContains file KFIUZFERLET.txt\n",
      "\tContains file LIFDHOFKWOI.txt\n",
      "\tContains file HRQFTHKVJTL.txt\n",
      "\tContains file PLYCGPVEAWO.txt\n",
      "\tContains file JEHBLZPUPSP.txt\n",
      "\tContains file PDJMSMNKIRM.txt\n",
      "\tContains file LPNDVDXPZIG.txt\n",
      "\tContains file HMNZTLIFGPD.txt\n",
      "\tContains file KNBSKDREHQU.txt\n",
      "\tContains file KTXDHIOKAUI.txt\n",
      "\tContains file JQUOBKFUACN.txt\n",
      "\tContains file HFUTPPAXDIS.txt\n",
      "\tContains file PTOBBCJYURJ.txt\n",
      "\tContains file LHODFIKVTQA.txt\n",
      "\tContains file JLTXKIGCWDL.txt\n",
      "\tContains file HDOHZHFSTTK.txt\n",
      "\tContains file KMMLGJOWLGI.txt\n",
      "\tContains file JDLRVFCXYLU.txt\n",
      "\tContains file PHWAVPEKAER.txt\n",
      "\tContains file LDGOCUQJNNS.txt\n",
      "\tContains file JTHSNBNPQSE.txt\n",
      "\tContains file HVUTZEVMSBW.txt\n",
      "\tContains file PQNVCVJINAR.txt\n",
      "The current folder is ./extracted_folder/extracted_content/Two\n",
      "\tContains no sub-folders!\n",
      "\tContains file HEORIXOTANT.txt\n",
      "\tContains file SOFUJYXTIMK.txt\n",
      "\tContains file HMZXPBOPRAE.txt\n",
      "\tContains file OMWIMVRCMYM.txt\n",
      "\tContains file OHZOUOSFJQC.txt\n",
      "\tContains file OKWFOOYTXFU.txt\n",
      "\tContains file LVMBINRBJXL.txt\n",
      "\tContains file LSQSTGPIGIY.txt\n",
      "\tContains file OIHMLGMWTHL.txt\n",
      "\tContains file GQTJJORZBXY.txt\n",
      "\tContains file HARDNJGDRBC.txt\n",
      "\tContains file OYMAGXAGWHJ.txt\n",
      "\tContains file HMUTDOVNYTV.txt\n",
      "\tContains file LYZEQCVYNEZ.txt\n",
      "\tContains file GMMQQUBMJNR.txt\n",
      "\tContains file GTOTCIWMDBY.txt\n",
      "\tContains file LULTNYAQEJG.txt\n",
      "\tContains file HTOHSTYXTCO.txt\n",
      "\tContains file SJMJLDGPBSJ.txt\n",
      "\tContains file LCJZYDHBFRM.txt\n",
      "\tContains file SPDZYGDHEWO.txt\n",
      "\tContains file SIKFPPLCJDN.txt\n",
      "\tContains file GXYSEPAFRTP.txt\n",
      "\tContains file SWOFXREEHWA.txt\n",
      "\tContains file GKQBQRCTNNK.txt\n",
      "The current folder is ./extracted_folder/extracted_content/Five\n",
      "\tContains no sub-folders!\n",
      "\tContains file ESIZWBHMGDP.txt\n",
      "\tContains file BUGKBZWRRVI.txt\n",
      "\tContains file ARLKFCWIAJE.txt\n",
      "\tContains file EYTCGIOYWIW.txt\n",
      "\tContains file APJKSRITGGX.txt\n",
      "\tContains file AXJGVPVEFAS.txt\n",
      "\tContains file CSCLFZCDYYC.txt\n",
      "\tContains file CAHBEVSVDDN.txt\n",
      "\tContains file BVBURZZCAPR.txt\n",
      "\tContains file ETCUEXWNBCF.txt\n",
      "\tContains file CRFSDGYFSHA.txt\n",
      "\tContains file DYOPIIVMZOO.txt\n",
      "\tContains file DDLASODUVPX.txt\n",
      "\tContains file CXBVCTRBBIE.txt\n",
      "\tContains file COMGMZBJAYE.txt\n",
      "\tContains file EAAOEPSAWMQ.txt\n",
      "\tContains file DZUWWXYIAEL.txt\n",
      "\tContains file EIPWXMQZJKU.txt\n",
      "\tContains file DHZBAAYEADM.txt\n",
      "\tContains file BSKJDRNEZQM.txt\n",
      "\tContains file AQKATDFGXTS.txt\n",
      "\tContains file BTYWAHLHKBM.txt\n",
      "\tContains file AEITMYIRQLP.txt\n",
      "\tContains file BNUQEHCFRTG.txt\n",
      "\tContains file DQPZQLBCJYP.txt\n",
      "The current folder is ./extracted_folder/extracted_content/Four\n",
      "\tContains no sub-folders!\n",
      "\tContains file WHTOHQUWXIN.txt\n",
      "\tContains file QDDETWBHJYC.txt\n",
      "\tContains file WNJISWPEBRS.txt\n",
      "\tContains file WFSKPTXPFCH.txt\n",
      "\tContains file EMTGPSXQEJX.txt\n",
      "719-266-2837\n",
      "\tContains file TWUOYFCCYBQ.txt\n",
      "\tContains file QTDYYIFPHAU.txt\n",
      "\tContains file TAKNAVDMZKV.txt\n",
      "\tContains file RYNXFYXMKHG.txt\n",
      "\tContains file ROICPTWKXDX.txt\n",
      "\tContains file QCWCFLKNZMN.txt\n",
      "\tContains file EXVQSVBQQQH.txt\n",
      "\tContains file THPNEGKTJWI.txt\n",
      "\tContains file TJFMLJODVAD.txt\n",
      "\tContains file QCTCKDIBBVG.txt\n",
      "\tContains file TKCZSFQNJTX.txt\n",
      "\tContains file WXDJDOGZEHN.txt\n",
      "\tContains file QVNJULGXNUM.txt\n",
      "\tContains file RSXOTNGKBML.txt\n",
      "\tContains file EPRNUHRSESC.txt\n",
      "\tContains file ECIOBYCDVFI.txt\n",
      "\tContains file RXDARIDGKBF.txt\n",
      "\tContains file REAXWSOIQDY.txt\n",
      "\tContains file WYDLGSGGXKV.txt\n",
      "\tContains file ESDIZXHYCVY.txt\n"
     ]
    }
   ],
   "source": [
    "for folder,sub_folders,files in os.walk(file_path):\n",
    "    print(f'The current folder is {folder}')\n",
    "    if sub_folders:\n",
    "        for sub_folder in sub_folders:\n",
    "            print(f'\\tContains sub-folder {sub_folder}')\n",
    "    else:\n",
    "        print('\\tContains no sub-folders!')\n",
    "    if files:\n",
    "        for file in files:\n",
    "            print(f'\\tContains file {file}')\n",
    "            pattern = r'\\d{3}-\\d{3}-\\d{4}'\n",
    "            f = open(folder + '/' + file, 'r')\n",
    "            text = f.read()\n",
    "            f.close()\n",
    "            match = re.search(pattern,text)\n",
    "            if match:\n",
    "                print(match.group(0))\n",
    "            \n",
    "            \n",
    "            \n",
    "          "
   ]
  },
  {
   "cell_type": "code",
   "execution_count": 30,
   "metadata": {},
   "outputs": [
    {
     "data": {
      "text/plain": [
       "<re.Match object; span=(4, 16), match='760-964-6620'>"
      ]
     },
     "execution_count": 30,
     "metadata": {},
     "output_type": "execute_result"
    }
   ],
   "source": [
    "re.search(pattern, 'abc 760-964-6620 abc')"
   ]
  },
  {
   "cell_type": "code",
   "execution_count": 35,
   "metadata": {},
   "outputs": [],
   "source": [
    "sample = 'Ipsuminteger ultrices nonumy per gubergren natoque pharetra, labore semvestibulum vivamus donec massapellentesque.Veniam et ligula commodo aliquam fusce laoreetphasellus sem, labore parturient magnainteger eleifend odio elitduis.Leopraesent quod phasellus fermentumfusce, magna conubia mollis eirmod.Magnapraesent ipsuminteger soluta accusam.Etiam placerat venenatis nunc sodales, massapellentesque feugait dolores.Erosin neque eos, netus molestie takimata cras nisised nullam.Lacus nostra morbi.Lectusnullam lobortisetiam nihil iaculis fermentumfusce imperdietaliquam, semvestibulum sempermorbi nisi duimauris duis.Ullamcorper urna viverra mipellentesque massapellentesque arcumorbi, feugiat zzril aliquammauris 719-266-2837 cursus tation quam id.Magna nullasuspendisse, sodalessed inceptos facilisis taciti lectus.Scelerisque euismod, egestasmauris exerci sed dolor praesent pharetra facilisis.Aenean facilisinam malesuada torquent aptent, tempor temporsuspendisse assum pellentesque dictum quammaecenas quod dolor euismod.Te amet ante risus quammaecenas magna viverra, laoreetphasellus cras elit elitnunc sanctus sempermorbi luptatum.Class sem bibendum enim, conguenulla facilisisproin amet erosin bibendumin odio.Et assum sedfusce, porta elementum eratproin aaenean urnapraesent eos taciti.Duo tation id risus illum molestie, justocras massaphasellus zzril muspellentesque autem wisi pharetra curae nobis.Convallis ea dictumstvivamus, tation metus mollis taciti egestas.Tristique quod blandit mi, parturient interdumdonec sedfusce malesuada cursus elitvivamus auctor.'"
   ]
  },
  {
   "cell_type": "code",
   "execution_count": 36,
   "metadata": {},
   "outputs": [
    {
     "data": {
      "text/plain": [
       "<re.Match object; span=(713, 725), match='719-266-2837'>"
      ]
     },
     "execution_count": 36,
     "metadata": {},
     "output_type": "execute_result"
    }
   ],
   "source": [
    "re.search(pattern,sample)"
   ]
  },
  {
   "cell_type": "code",
   "execution_count": null,
   "metadata": {},
   "outputs": [],
   "source": []
  }
 ],
 "metadata": {
  "anaconda-cloud": {},
  "kernelspec": {
   "display_name": "Python 3",
   "language": "python",
   "name": "python3"
  },
  "language_info": {
   "codemirror_mode": {
    "name": "ipython",
    "version": 3
   },
   "file_extension": ".py",
   "mimetype": "text/x-python",
   "name": "python",
   "nbconvert_exporter": "python",
   "pygments_lexer": "ipython3",
   "version": "3.8.3"
  }
 },
 "nbformat": 4,
 "nbformat_minor": 2
}
